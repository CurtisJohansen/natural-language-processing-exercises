{
 "cells": [
  {
   "cell_type": "code",
   "execution_count": 1,
   "metadata": {},
   "outputs": [],
   "source": [
    "import unicodedata\n",
    "import re\n",
    "import json\n",
    "\n",
    "import nltk\n",
    "from nltk.tokenize.toktok import ToktokTokenizer\n",
    "from nltk.corpus import stopwords\n",
    "\n",
    "import pandas as pd\n",
    "\n",
    "import acquire"
   ]
  },
  {
   "cell_type": "code",
   "execution_count": 2,
   "metadata": {},
   "outputs": [
    {
     "name": "stderr",
     "output_type": "stream",
     "text": [
      "[nltk_data] Downloading package stopwords to\n",
      "[nltk_data]     /Users/curtisjohansen/nltk_data...\n",
      "[nltk_data]   Package stopwords is already up-to-date!\n"
     ]
    },
    {
     "data": {
      "text/plain": [
       "True"
      ]
     },
     "execution_count": 2,
     "metadata": {},
     "output_type": "execute_result"
    }
   ],
   "source": [
    "nltk.download('stopwords')"
   ]
  },
  {
   "cell_type": "code",
   "execution_count": 3,
   "metadata": {},
   "outputs": [],
   "source": [
    "# define categories\n",
    "categories = [\"business\", \"sports\", \"technology\", \"entertainment\"]\n",
    "\n",
    "# use get_all_new_article function from acquire.py file \n",
    "\n",
    "news_df = acquire.get_all_news_articles(categories)"
   ]
  },
  {
   "cell_type": "code",
   "execution_count": 4,
   "metadata": {},
   "outputs": [
    {
     "data": {
      "text/html": [
       "<div>\n",
       "<style scoped>\n",
       "    .dataframe tbody tr th:only-of-type {\n",
       "        vertical-align: middle;\n",
       "    }\n",
       "\n",
       "    .dataframe tbody tr th {\n",
       "        vertical-align: top;\n",
       "    }\n",
       "\n",
       "    .dataframe thead th {\n",
       "        text-align: right;\n",
       "    }\n",
       "</style>\n",
       "<table border=\"1\" class=\"dataframe\">\n",
       "  <thead>\n",
       "    <tr style=\"text-align: right;\">\n",
       "      <th></th>\n",
       "      <th>title</th>\n",
       "      <th>content</th>\n",
       "      <th>category</th>\n",
       "    </tr>\n",
       "  </thead>\n",
       "  <tbody>\n",
       "    <tr>\n",
       "      <th>0</th>\n",
       "      <td>Facebook changes its company name to 'Meta'</td>\n",
       "      <td>Facebook on Thursday announced it's changing t...</td>\n",
       "      <td>business</td>\n",
       "    </tr>\n",
       "    <tr>\n",
       "      <th>1</th>\n",
       "      <td>'Man who takes 6 months parental leave is a lo...</td>\n",
       "      <td>Several Twitter users criticised US-based Pala...</td>\n",
       "      <td>business</td>\n",
       "    </tr>\n",
       "    <tr>\n",
       "      <th>2</th>\n",
       "      <td>Delhi HC notice to RBI, SBI over banning UPI p...</td>\n",
       "      <td>The Delhi High Court on Thursday issued notice...</td>\n",
       "      <td>business</td>\n",
       "    </tr>\n",
       "    <tr>\n",
       "      <th>3</th>\n",
       "      <td>Paytm will not force employees to come to offi...</td>\n",
       "      <td>Paytm will continue to allow employees to work...</td>\n",
       "      <td>business</td>\n",
       "    </tr>\n",
       "    <tr>\n",
       "      <th>4</th>\n",
       "      <td>Legacy companies eat Ola, Ather, Tork &amp; SmartE...</td>\n",
       "      <td>Bajaj Auto's MD Rajiv Bajaj on Thursday took a...</td>\n",
       "      <td>business</td>\n",
       "    </tr>\n",
       "  </tbody>\n",
       "</table>\n",
       "</div>"
      ],
      "text/plain": [
       "                                               title  \\\n",
       "0        Facebook changes its company name to 'Meta'   \n",
       "1  'Man who takes 6 months parental leave is a lo...   \n",
       "2  Delhi HC notice to RBI, SBI over banning UPI p...   \n",
       "3  Paytm will not force employees to come to offi...   \n",
       "4  Legacy companies eat Ola, Ather, Tork & SmartE...   \n",
       "\n",
       "                                             content  category  \n",
       "0  Facebook on Thursday announced it's changing t...  business  \n",
       "1  Several Twitter users criticised US-based Pala...  business  \n",
       "2  The Delhi High Court on Thursday issued notice...  business  \n",
       "3  Paytm will continue to allow employees to work...  business  \n",
       "4  Bajaj Auto's MD Rajiv Bajaj on Thursday took a...  business  "
      ]
     },
     "execution_count": 4,
     "metadata": {},
     "output_type": "execute_result"
    }
   ],
   "source": [
    "# look at the head of dataframe\n",
    "news_df.head()"
   ]
  },
  {
   "cell_type": "code",
   "execution_count": 5,
   "metadata": {},
   "outputs": [
    {
     "data": {
      "text/plain": [
       "'Facebook on Thursday announced it\\'s changing the company\\'s name to \\'Meta\\' to reflect its focus on \\'metaverse\\'. Using technologies like augmented reality and virtual reality, Facebook plans to create a greater sense of \"virtual presence\" to mimic the experience of interacting in person. \"Our apps and our brands, they\\'re not changing,\" Zuckerberg said.'"
      ]
     },
     "execution_count": 5,
     "metadata": {},
     "output_type": "execute_result"
    }
   ],
   "source": [
    "# lets use the content of first news item as 'article' to test my functions\n",
    "\n",
    "article = news_df.content[0]\n",
    "article"
   ]
  },
  {
   "cell_type": "code",
   "execution_count": null,
   "metadata": {},
   "outputs": [],
   "source": []
  },
  {
   "cell_type": "markdown",
   "metadata": {},
   "source": [
    "#### In this exercise we will be defining some functions to prepare textual data. These functions should apply equally well to both the codeup blog articles and the news articles that were previously acquired."
   ]
  },
  {
   "cell_type": "markdown",
   "metadata": {},
   "source": [
    "### 1. Define a function named basic_clean. It should take in a string and apply some basic text cleaning to it:\n",
    "- Lowercase everything\n",
    "- Normalize unicode characters\n",
    "- Replace anything that is not a letter, number, whitespace or a single quote"
   ]
  },
  {
   "cell_type": "code",
   "execution_count": 6,
   "metadata": {},
   "outputs": [],
   "source": [
    "def basic_clean(string):\n",
    "    '''\n",
    "    This function takes in a string and\n",
    "    returns the string normalized.\n",
    "    '''\n",
    "    string = unicodedata.normalize('NFKD', string)\\\n",
    "             .encode('ascii', 'ignore')\\\n",
    "             .decode('utf-8', 'ignore')\n",
    "    string = re.sub(r'[^\\w\\s]', '', string).lower()\n",
    "    return string"
   ]
  },
  {
   "cell_type": "code",
   "execution_count": 7,
   "metadata": {},
   "outputs": [
    {
     "data": {
      "text/plain": [
       "'facebook on thursday announced its changing the companys name to meta to reflect its focus on metaverse using technologies like augmented reality and virtual reality facebook plans to create a greater sense of virtual presence to mimic the experience of interacting in person our apps and our brands theyre not changing zuckerberg said'"
      ]
     },
     "execution_count": 7,
     "metadata": {},
     "output_type": "execute_result"
    }
   ],
   "source": [
    "# use the function defined above\n",
    "\n",
    "basic_clean(article)"
   ]
  },
  {
   "cell_type": "markdown",
   "metadata": {},
   "source": [
    "### 2. Define a function named tokenize. It should take in a string and tokenize all the words in the string."
   ]
  },
  {
   "cell_type": "code",
   "execution_count": 8,
   "metadata": {},
   "outputs": [],
   "source": [
    "def tokenize(string):\n",
    "    '''\n",
    "    This function takes in a string and returns a tokenized string.\n",
    "    \n",
    "    '''\n",
    "    # create the tokenizer\n",
    "    tokenizer = nltk.tokenize.ToktokTokenizer()\n",
    "    # Use the tokenizer\n",
    "    string = tokenizer.tokenize(string, return_str=True)\n",
    "    \n",
    "    return string"
   ]
  },
  {
   "cell_type": "code",
   "execution_count": 9,
   "metadata": {},
   "outputs": [
    {
     "data": {
      "text/plain": [
       "'Facebook on Thursday announced it \\' s changing the company \\' s name to \\' Meta \\' to reflect its focus on \\' metaverse \\' . Using technologies like augmented reality and virtual reality , Facebook plans to create a greater sense of \" virtual presence \" to mimic the experience of interacting in person. \" Our apps and our brands , they \\' re not changing , \" Zuckerberg said .'"
      ]
     },
     "execution_count": 9,
     "metadata": {},
     "output_type": "execute_result"
    }
   ],
   "source": [
    "# Use the function defined above\n",
    "\n",
    "tokenize(article)"
   ]
  },
  {
   "cell_type": "markdown",
   "metadata": {},
   "source": [
    "### 3. Define a function named stem. It should accept some text and return the text after applying stemming to all the words."
   ]
  },
  {
   "cell_type": "code",
   "execution_count": 10,
   "metadata": {},
   "outputs": [],
   "source": [
    "def stem(string):\n",
    "    '''\n",
    "    This function takes in a string and\n",
    "    returns a string with words stemmed.\n",
    "    '''\n",
    "    # Create porter stemmer.\n",
    "    ps = nltk.porter.PorterStemmer()\n",
    "    \n",
    "    # Use the stemmer to stem each word in the list of words we created by using split.\n",
    "    stems = [ps.stem(word) for word in string.split()]\n",
    "    \n",
    "    # Join our lists of words into a string again and assign to a variable.\n",
    "    string = ' '.join(stems)\n",
    "    \n",
    "    return string"
   ]
  },
  {
   "cell_type": "code",
   "execution_count": 11,
   "metadata": {},
   "outputs": [
    {
     "data": {
      "text/plain": [
       "'facebook on thursday announc it\\' chang the company\\' name to \\'meta\\' to reflect it focu on \\'metaverse\\'. use technolog like augment realiti and virtual reality, facebook plan to creat a greater sens of \"virtual presence\" to mimic the experi of interact in person. \"our app and our brands, they\\'r not changing,\" zuckerberg said.'"
      ]
     },
     "execution_count": 11,
     "metadata": {},
     "output_type": "execute_result"
    }
   ],
   "source": [
    "# use the function defined above\n",
    "\n",
    "stem(article)"
   ]
  },
  {
   "cell_type": "markdown",
   "metadata": {},
   "source": [
    "### 4. Define a function named lemmatize. It should accept some text and return the text after applying lemmatization to each word."
   ]
  },
  {
   "cell_type": "code",
   "execution_count": 12,
   "metadata": {},
   "outputs": [],
   "source": [
    "def lemmatize(string):\n",
    "    '''\n",
    "    This function takes in string for and\n",
    "    returns a string with words lemmatized.\n",
    "    '''\n",
    "    # Create the lemmatizer.\n",
    "    wnl = nltk.stem.WordNetLemmatizer()\n",
    "    \n",
    "    # Use the lemmatizer on each word in the list of words we created by using split.\n",
    "    lemmas = [wnl.lemmatize(word) for word in string.split()]\n",
    "    \n",
    "    # Join our list of words into a string again and assign to a variable.\n",
    "    string = ' '.join(lemmas)\n",
    "    \n",
    "    return string"
   ]
  },
  {
   "cell_type": "code",
   "execution_count": 13,
   "metadata": {},
   "outputs": [
    {
     "data": {
      "text/plain": [
       "'Facebook on Thursday announced it\\'s changing the company\\'s name to \\'Meta\\' to reflect it focus on \\'metaverse\\'. Using technology like augmented reality and virtual reality, Facebook plan to create a greater sense of \"virtual presence\" to mimic the experience of interacting in person. \"Our apps and our brands, they\\'re not changing,\" Zuckerberg said.'"
      ]
     },
     "execution_count": 13,
     "metadata": {},
     "output_type": "execute_result"
    }
   ],
   "source": [
    "# use the function defined above\n",
    "\n",
    "lemmatize(article)"
   ]
  },
  {
   "cell_type": "markdown",
   "metadata": {},
   "source": [
    "### 5. Define a function named remove_stopwords. It should accept some text and return the text after removing all the stopwords.\n",
    "This function should define two optional parameters, extra_words and exclude_words. These parameters should define any additional stop words to include, and any words that we don't want to remove."
   ]
  },
  {
   "cell_type": "code",
   "execution_count": 14,
   "metadata": {},
   "outputs": [],
   "source": [
    "def remove_stopwords(string, extra_words = [], exclude_words = []):\n",
    "    '''\n",
    "    This function takes in a string, optional extra_words and exclude_words parameters\n",
    "    with default empty lists and returns a string.\n",
    "    '''\n",
    "    # Create stopword_list.\n",
    "    stopword_list = stopwords.words('english')\n",
    "    \n",
    "    # Remove 'exclude_words' from stopword_list to keep these in my text.\n",
    "    stopword_list = set(stopword_list) - set(exclude_words)\n",
    "    \n",
    "    # Add in 'extra_words' to stopword_list.\n",
    "    stopword_list = stopword_list.union(set(extra_words))\n",
    "    \n",
    "    # Split words in string.\n",
    "    words = string.split()\n",
    "    \n",
    "    # Create a list of words from my string with stopwords removed and assign to variable.\n",
    "    filtered_words = [word for word in words if word not in stopword_list]\n",
    "    \n",
    "    # Join words in the list back into strings and assign to a variable.\n",
    "    string_without_stopwords = ' '.join(filtered_words)\n",
    "    \n",
    "    return string_without_stopwords"
   ]
  },
  {
   "cell_type": "code",
   "execution_count": 15,
   "metadata": {},
   "outputs": [
    {
     "data": {
      "text/plain": [
       "'Facebook Thursday announced changing company\\'s name \\'Meta\\' reflect focus \\'metaverse\\'. Using technologies like augmented reality virtual reality, Facebook plans create greater sense \"virtual presence\" mimic experience interacting person. \"Our apps brands, they\\'re changing,\" Zuckerberg said.'"
      ]
     },
     "execution_count": 15,
     "metadata": {},
     "output_type": "execute_result"
    }
   ],
   "source": [
    "# use the function defined above\n",
    "\n",
    "remove_stopwords(article)"
   ]
  },
  {
   "cell_type": "markdown",
   "metadata": {},
   "source": [
    "### 6. Use your data from the acquire to produce a dataframe of the news articles. Name the dataframe news_df."
   ]
  },
  {
   "cell_type": "code",
   "execution_count": 16,
   "metadata": {},
   "outputs": [
    {
     "data": {
      "text/html": [
       "<div>\n",
       "<style scoped>\n",
       "    .dataframe tbody tr th:only-of-type {\n",
       "        vertical-align: middle;\n",
       "    }\n",
       "\n",
       "    .dataframe tbody tr th {\n",
       "        vertical-align: top;\n",
       "    }\n",
       "\n",
       "    .dataframe thead th {\n",
       "        text-align: right;\n",
       "    }\n",
       "</style>\n",
       "<table border=\"1\" class=\"dataframe\">\n",
       "  <thead>\n",
       "    <tr style=\"text-align: right;\">\n",
       "      <th></th>\n",
       "      <th>title</th>\n",
       "      <th>content</th>\n",
       "      <th>category</th>\n",
       "    </tr>\n",
       "  </thead>\n",
       "  <tbody>\n",
       "    <tr>\n",
       "      <th>0</th>\n",
       "      <td>Facebook changes its company name to 'Meta'</td>\n",
       "      <td>Facebook on Thursday announced it's changing t...</td>\n",
       "      <td>business</td>\n",
       "    </tr>\n",
       "    <tr>\n",
       "      <th>1</th>\n",
       "      <td>'Man who takes 6 months parental leave is a lo...</td>\n",
       "      <td>Several Twitter users criticised US-based Pala...</td>\n",
       "      <td>business</td>\n",
       "    </tr>\n",
       "    <tr>\n",
       "      <th>2</th>\n",
       "      <td>Delhi HC notice to RBI, SBI over banning UPI p...</td>\n",
       "      <td>The Delhi High Court on Thursday issued notice...</td>\n",
       "      <td>business</td>\n",
       "    </tr>\n",
       "    <tr>\n",
       "      <th>3</th>\n",
       "      <td>Paytm will not force employees to come to offi...</td>\n",
       "      <td>Paytm will continue to allow employees to work...</td>\n",
       "      <td>business</td>\n",
       "    </tr>\n",
       "    <tr>\n",
       "      <th>4</th>\n",
       "      <td>Legacy companies eat Ola, Ather, Tork &amp; SmartE...</td>\n",
       "      <td>Bajaj Auto's MD Rajiv Bajaj on Thursday took a...</td>\n",
       "      <td>business</td>\n",
       "    </tr>\n",
       "  </tbody>\n",
       "</table>\n",
       "</div>"
      ],
      "text/plain": [
       "                                               title  \\\n",
       "0        Facebook changes its company name to 'Meta'   \n",
       "1  'Man who takes 6 months parental leave is a lo...   \n",
       "2  Delhi HC notice to RBI, SBI over banning UPI p...   \n",
       "3  Paytm will not force employees to come to offi...   \n",
       "4  Legacy companies eat Ola, Ather, Tork & SmartE...   \n",
       "\n",
       "                                             content  category  \n",
       "0  Facebook on Thursday announced it's changing t...  business  \n",
       "1  Several Twitter users criticised US-based Pala...  business  \n",
       "2  The Delhi High Court on Thursday issued notice...  business  \n",
       "3  Paytm will continue to allow employees to work...  business  \n",
       "4  Bajaj Auto's MD Rajiv Bajaj on Thursday took a...  business  "
      ]
     },
     "execution_count": 16,
     "metadata": {},
     "output_type": "execute_result"
    }
   ],
   "source": [
    "# check head of my news_df dataframe:\n",
    "\n",
    "news_df.head()"
   ]
  },
  {
   "cell_type": "code",
   "execution_count": 17,
   "metadata": {},
   "outputs": [
    {
     "data": {
      "text/plain": [
       "0     facebook thursday announced changing company n...\n",
       "1     several twitter user criticised usbased palant...\n",
       "2     delhi high court thursday issued notice rbi sb...\n",
       "3     paytm continue allow employee work home force ...\n",
       "4     bajaj auto md rajiv bajaj thursday took jibe s...\n",
       "                            ...                        \n",
       "95    actress nitu chandra ha revealed chose stunt w...\n",
       "96    bigg bos 13 fame news anchor shefali bagga wa ...\n",
       "97    actor emraan hashmi ha said witnessed exorcism...\n",
       "98    mahesh manjrekar wa diagnosed urinary bladder ...\n",
       "99    actor chris evans ha said pinch every day voic...\n",
       "Name: content, Length: 100, dtype: object"
      ]
     },
     "execution_count": 17,
     "metadata": {},
     "output_type": "execute_result"
    }
   ],
   "source": [
    "# use all the functions to see if they work on news_df's content column\n",
    "\n",
    "news_df['content'].apply(basic_clean)\\\n",
    ".apply(tokenize)\\\n",
    ".apply(lemmatize)\\\n",
    ".apply(remove_stopwords)"
   ]
  },
  {
   "cell_type": "code",
   "execution_count": null,
   "metadata": {},
   "outputs": [],
   "source": []
  },
  {
   "cell_type": "markdown",
   "metadata": {},
   "source": [
    "### 7. Make another dataframe for the Codeup blog posts. Name the dataframe codeup_df."
   ]
  },
  {
   "cell_type": "code",
   "execution_count": 18,
   "metadata": {},
   "outputs": [],
   "source": [
    "codeup_df = acquire.get_blogs()"
   ]
  },
  {
   "cell_type": "code",
   "execution_count": 19,
   "metadata": {},
   "outputs": [
    {
     "data": {
      "text/html": [
       "<div>\n",
       "<style scoped>\n",
       "    .dataframe tbody tr th:only-of-type {\n",
       "        vertical-align: middle;\n",
       "    }\n",
       "\n",
       "    .dataframe tbody tr th {\n",
       "        vertical-align: top;\n",
       "    }\n",
       "\n",
       "    .dataframe thead th {\n",
       "        text-align: right;\n",
       "    }\n",
       "</style>\n",
       "<table border=\"1\" class=\"dataframe\">\n",
       "  <thead>\n",
       "    <tr style=\"text-align: right;\">\n",
       "      <th></th>\n",
       "      <th>title</th>\n",
       "      <th>date</th>\n",
       "      <th>category</th>\n",
       "      <th>content</th>\n",
       "    </tr>\n",
       "  </thead>\n",
       "  <tbody>\n",
       "    <tr>\n",
       "      <th>0</th>\n",
       "      <td>Codeup Launches First Podcast: Hire Tech</td>\n",
       "      <td>Aug 25, 2021</td>\n",
       "      <td>Codeup News</td>\n",
       "      <td>Any podcast enthusiasts out there? We are plea...</td>\n",
       "    </tr>\n",
       "    <tr>\n",
       "      <th>1</th>\n",
       "      <td>Why Should I Become a System Administrator?</td>\n",
       "      <td>Aug 23, 2021</td>\n",
       "      <td>Tips for Prospective Students</td>\n",
       "      <td>With so many tech careers in demand, why choos...</td>\n",
       "    </tr>\n",
       "    <tr>\n",
       "      <th>2</th>\n",
       "      <td>Announcing our Candidacy for Accreditation!</td>\n",
       "      <td>Jun 30, 2021</td>\n",
       "      <td>Codeup News</td>\n",
       "      <td>Did you know that even though we’re an indepen...</td>\n",
       "    </tr>\n",
       "    <tr>\n",
       "      <th>3</th>\n",
       "      <td>Codeup Takes Over More of the Historic Vogue B...</td>\n",
       "      <td>Jun 21, 2021</td>\n",
       "      <td>Codeup News</td>\n",
       "      <td>Codeup is moving into another floor of our His...</td>\n",
       "    </tr>\n",
       "    <tr>\n",
       "      <th>4</th>\n",
       "      <td>Inclusion at Codeup During Pride Month (and Al...</td>\n",
       "      <td>Jun 4, 2021</td>\n",
       "      <td>Codeup News</td>\n",
       "      <td>Happy Pride Month! Pride Month is a dedicated ...</td>\n",
       "    </tr>\n",
       "  </tbody>\n",
       "</table>\n",
       "</div>"
      ],
      "text/plain": [
       "                                               title          date  \\\n",
       "0           Codeup Launches First Podcast: Hire Tech  Aug 25, 2021   \n",
       "1        Why Should I Become a System Administrator?  Aug 23, 2021   \n",
       "2        Announcing our Candidacy for Accreditation!  Jun 30, 2021   \n",
       "3  Codeup Takes Over More of the Historic Vogue B...  Jun 21, 2021   \n",
       "4  Inclusion at Codeup During Pride Month (and Al...   Jun 4, 2021   \n",
       "\n",
       "                        category  \\\n",
       "0                    Codeup News   \n",
       "1  Tips for Prospective Students   \n",
       "2                    Codeup News   \n",
       "3                    Codeup News   \n",
       "4                    Codeup News   \n",
       "\n",
       "                                             content  \n",
       "0  Any podcast enthusiasts out there? We are plea...  \n",
       "1  With so many tech careers in demand, why choos...  \n",
       "2  Did you know that even though we’re an indepen...  \n",
       "3  Codeup is moving into another floor of our His...  \n",
       "4  Happy Pride Month! Pride Month is a dedicated ...  "
      ]
     },
     "execution_count": 19,
     "metadata": {},
     "output_type": "execute_result"
    }
   ],
   "source": [
    "codeup_df.head()"
   ]
  },
  {
   "cell_type": "code",
   "execution_count": null,
   "metadata": {},
   "outputs": [],
   "source": []
  },
  {
   "cell_type": "markdown",
   "metadata": {},
   "source": [
    "### 8. For each dataframe, produce the following columns:\n",
    "\n",
    "- title to hold the title\n",
    "- original to hold the original article/post content\n",
    "- clean to hold the normalized and tokenized original with the stopwords removed.\n",
    "- stemmed to hold the stemmed version of the cleaned data.\n",
    "- lemmatized to hold the lemmatized version of the cleaned data."
   ]
  },
  {
   "cell_type": "code",
   "execution_count": 20,
   "metadata": {},
   "outputs": [],
   "source": [
    "def prep_article_data(df, column, extra_words=[], exclude_words=[]):\n",
    "    '''\n",
    "    This function take in a df and the string name for a text column with \n",
    "    option to pass lists for extra_words and exclude_words and\n",
    "    returns a df with the text article title, original text, stemmed text,\n",
    "    lemmatized text, cleaned, tokenized, & lemmatized text with stopwords removed.\n",
    "    '''\n",
    "    df['clean'] = df[column].apply(basic_clean)\\\n",
    "                            .apply(tokenize)\\\n",
    "                            .apply(remove_stopwords, \n",
    "                                   extra_words=extra_words, \n",
    "                                   exclude_words=exclude_words)\n",
    "    \n",
    "    df['stemmed'] = df[column].apply(basic_clean)\\\n",
    "                            .apply(tokenize)\\\n",
    "                            .apply(stem)\\\n",
    "                            .apply(remove_stopwords, \n",
    "                                   extra_words=extra_words, \n",
    "                                   exclude_words=exclude_words)\n",
    "    \n",
    "    df['lemmatized'] = df[column].apply(basic_clean)\\\n",
    "                            .apply(tokenize)\\\n",
    "                            .apply(lemmatize)\\\n",
    "                            .apply(remove_stopwords, \n",
    "                                   extra_words=extra_words, \n",
    "                                   exclude_words=exclude_words)\n",
    "    \n",
    "    return df[['title', column,'clean', 'stemmed', 'lemmatized']]"
   ]
  },
  {
   "cell_type": "code",
   "execution_count": 21,
   "metadata": {},
   "outputs": [
    {
     "data": {
      "text/html": [
       "<div>\n",
       "<style scoped>\n",
       "    .dataframe tbody tr th:only-of-type {\n",
       "        vertical-align: middle;\n",
       "    }\n",
       "\n",
       "    .dataframe tbody tr th {\n",
       "        vertical-align: top;\n",
       "    }\n",
       "\n",
       "    .dataframe thead th {\n",
       "        text-align: right;\n",
       "    }\n",
       "</style>\n",
       "<table border=\"1\" class=\"dataframe\">\n",
       "  <thead>\n",
       "    <tr style=\"text-align: right;\">\n",
       "      <th></th>\n",
       "      <th>title</th>\n",
       "      <th>content</th>\n",
       "      <th>clean</th>\n",
       "      <th>stemmed</th>\n",
       "      <th>lemmatized</th>\n",
       "    </tr>\n",
       "  </thead>\n",
       "  <tbody>\n",
       "    <tr>\n",
       "      <th>0</th>\n",
       "      <td>Facebook changes its company name to 'Meta'</td>\n",
       "      <td>Facebook on Thursday announced it's changing t...</td>\n",
       "      <td>facebook thursday announced changing companys ...</td>\n",
       "      <td>facebook thursday announc chang compani name m...</td>\n",
       "      <td>facebook thursday announced changing company n...</td>\n",
       "    </tr>\n",
       "    <tr>\n",
       "      <th>1</th>\n",
       "      <td>'Man who takes 6 months parental leave is a lo...</td>\n",
       "      <td>Several Twitter users criticised US-based Pala...</td>\n",
       "      <td>several twitter users criticised usbased palan...</td>\n",
       "      <td>sever twitter user criticis usbas palantir tec...</td>\n",
       "      <td>several twitter user criticised usbased palant...</td>\n",
       "    </tr>\n",
       "    <tr>\n",
       "      <th>2</th>\n",
       "      <td>Delhi HC notice to RBI, SBI over banning UPI p...</td>\n",
       "      <td>The Delhi High Court on Thursday issued notice...</td>\n",
       "      <td>delhi high court thursday issued notice rbi sb...</td>\n",
       "      <td>delhi high court thursday issu notic rbi sbi n...</td>\n",
       "      <td>delhi high court thursday issued notice rbi sb...</td>\n",
       "    </tr>\n",
       "    <tr>\n",
       "      <th>3</th>\n",
       "      <td>Paytm will not force employees to come to offi...</td>\n",
       "      <td>Paytm will continue to allow employees to work...</td>\n",
       "      <td>paytm continue allow employees work home force...</td>\n",
       "      <td>paytm continu allow employe work home forc com...</td>\n",
       "      <td>paytm continue allow employee work home force ...</td>\n",
       "    </tr>\n",
       "    <tr>\n",
       "      <th>4</th>\n",
       "      <td>Legacy companies eat Ola, Ather, Tork &amp; SmartE...</td>\n",
       "      <td>Bajaj Auto's MD Rajiv Bajaj on Thursday took a...</td>\n",
       "      <td>bajaj autos md rajiv bajaj thursday took jibe ...</td>\n",
       "      <td>bajaj auto md rajiv bajaj thursday took jibe s...</td>\n",
       "      <td>bajaj auto md rajiv bajaj thursday took jibe s...</td>\n",
       "    </tr>\n",
       "  </tbody>\n",
       "</table>\n",
       "</div>"
      ],
      "text/plain": [
       "                                               title  \\\n",
       "0        Facebook changes its company name to 'Meta'   \n",
       "1  'Man who takes 6 months parental leave is a lo...   \n",
       "2  Delhi HC notice to RBI, SBI over banning UPI p...   \n",
       "3  Paytm will not force employees to come to offi...   \n",
       "4  Legacy companies eat Ola, Ather, Tork & SmartE...   \n",
       "\n",
       "                                             content  \\\n",
       "0  Facebook on Thursday announced it's changing t...   \n",
       "1  Several Twitter users criticised US-based Pala...   \n",
       "2  The Delhi High Court on Thursday issued notice...   \n",
       "3  Paytm will continue to allow employees to work...   \n",
       "4  Bajaj Auto's MD Rajiv Bajaj on Thursday took a...   \n",
       "\n",
       "                                               clean  \\\n",
       "0  facebook thursday announced changing companys ...   \n",
       "1  several twitter users criticised usbased palan...   \n",
       "2  delhi high court thursday issued notice rbi sb...   \n",
       "3  paytm continue allow employees work home force...   \n",
       "4  bajaj autos md rajiv bajaj thursday took jibe ...   \n",
       "\n",
       "                                             stemmed  \\\n",
       "0  facebook thursday announc chang compani name m...   \n",
       "1  sever twitter user criticis usbas palantir tec...   \n",
       "2  delhi high court thursday issu notic rbi sbi n...   \n",
       "3  paytm continu allow employe work home forc com...   \n",
       "4  bajaj auto md rajiv bajaj thursday took jibe s...   \n",
       "\n",
       "                                          lemmatized  \n",
       "0  facebook thursday announced changing company n...  \n",
       "1  several twitter user criticised usbased palant...  \n",
       "2  delhi high court thursday issued notice rbi sb...  \n",
       "3  paytm continue allow employee work home force ...  \n",
       "4  bajaj auto md rajiv bajaj thursday took jibe s...  "
      ]
     },
     "execution_count": 21,
     "metadata": {},
     "output_type": "execute_result"
    }
   ],
   "source": [
    "# use the function defined above for news_df's content column.\n",
    "\n",
    "prep_article_data(news_df, 'content', extra_words = ['ha'], exclude_words = ['no']).head()"
   ]
  },
  {
   "cell_type": "code",
   "execution_count": null,
   "metadata": {},
   "outputs": [],
   "source": []
  },
  {
   "cell_type": "markdown",
   "metadata": {},
   "source": [
    "### 9. Ask yourself:\n",
    "\n",
    "- **If your corpus is 493KB, would you prefer to use stemmed or lemmatized text?**\n",
    "- I would lemmatize it so that the words that are returned are real words. The dataset is small, so I don't see a waste of resources doing this method over stemming\n",
    "\n",
    "\n",
    "- **If your corpus is 25MB, would you prefer to use stemmed or lemmatized text?**\n",
    "- I would still lemmatize it...25MB isn't to large\n",
    "\n",
    "\n",
    "- **If your corpus is 200TB of text and you're charged by the megabyte for your hosted computational resources, would you prefer to use stemmed or lemmatized text?**\n",
    "- Stemmed, I'll work with what I get before I have to pay, would be very expensive\n"
   ]
  },
  {
   "cell_type": "code",
   "execution_count": null,
   "metadata": {},
   "outputs": [],
   "source": []
  }
 ],
 "metadata": {
  "kernelspec": {
   "display_name": "Python 3",
   "language": "python",
   "name": "python3"
  },
  "language_info": {
   "codemirror_mode": {
    "name": "ipython",
    "version": 3
   },
   "file_extension": ".py",
   "mimetype": "text/x-python",
   "name": "python",
   "nbconvert_exporter": "python",
   "pygments_lexer": "ipython3",
   "version": "3.8.8"
  }
 },
 "nbformat": 4,
 "nbformat_minor": 4
}
