{
 "cells": [
  {
   "cell_type": "code",
   "execution_count": 1,
   "metadata": {},
   "outputs": [],
   "source": [
    "from requests import get\n",
    "import bs4\n",
    "from bs4 import BeautifulSoup\n",
    "from os import path\n",
    "import pandas as pd\n",
    "import requests"
   ]
  },
  {
   "cell_type": "markdown",
   "metadata": {},
   "source": [
    "## Codeup Blog Articles\n",
    "\n",
    "Scrape the article text from the following pages:\n",
    "\n",
    "    - https://codeup.com/codeups-data-science-career-accelerator-is-here/\n",
    "    - https://codeup.com/data-science-myths/\n",
    "    - https://codeup.com/data-science-vs-data-analytics-whats-the-difference/\n",
    "    - https://codeup.com/10-tips-to-crush-it-at-the-sa-tech-job-fair/\n",
    "    - https://codeup.com/competitor-bootcamps-are-closing-is-the-model-in-danger/\n",
    "- Encapsulate your work in a function named get_blog_articles that will return a list of dictionaries, with each dictionary representing one article. The shape of each dictionary should look like this:\n",
    "\n",
    "{\n",
    "\n",
    "    'title': 'the title of the article',\n",
    "    \n",
    "    'content': 'the full text content of the article'\n",
    "    \n",
    "}\n"
   ]
  },
  {
   "cell_type": "code",
   "execution_count": 6,
   "metadata": {},
   "outputs": [],
   "source": [
    "url = 'https://codeup.com/data-science/codeups-data-science-career-accelerator-is-here/'\n",
    "headers = {'User-Agent': 'Codeup Data Science'} # Some websites don't accept the pyhon-requests default user-agent\n",
    "response = requests.get(url, headers=headers)\n"
   ]
  },
  {
   "cell_type": "code",
   "execution_count": 7,
   "metadata": {},
   "outputs": [],
   "source": [
    "soup = bs4.BeautifulSoup(response.text)\n",
    "article = soup.find('div', class_='jupiterx-post-content')\n",
    "\n",
    "article_dict = {'title':[], 'content':[]}"
   ]
  },
  {
   "cell_type": "code",
   "execution_count": 8,
   "metadata": {},
   "outputs": [
    {
     "data": {
      "text/plain": [
       "'Codeup’s Data Science Career Accelerator is Here! - Codeup'"
      ]
     },
     "execution_count": 8,
     "metadata": {},
     "output_type": "execute_result"
    }
   ],
   "source": [
    "soup.title.string"
   ]
  },
  {
   "cell_type": "code",
   "execution_count": 16,
   "metadata": {},
   "outputs": [
    {
     "ename": "AttributeError",
     "evalue": "'NoneType' object has no attribute 'text'",
     "output_type": "error",
     "traceback": [
      "\u001b[0;31m---------------------------------------------------------------------------\u001b[0m",
      "\u001b[0;31mAttributeError\u001b[0m                            Traceback (most recent call last)",
      "\u001b[0;32m<ipython-input-16-fb3682abcb46>\u001b[0m in \u001b[0;36m<module>\u001b[0;34m\u001b[0m\n\u001b[1;32m      1\u001b[0m \u001b[0marticle_dict\u001b[0m\u001b[0;34m[\u001b[0m\u001b[0;34m'title'\u001b[0m\u001b[0;34m]\u001b[0m \u001b[0;34m=\u001b[0m \u001b[0msoup\u001b[0m\u001b[0;34m.\u001b[0m\u001b[0mtitle\u001b[0m\u001b[0;34m.\u001b[0m\u001b[0mstring\u001b[0m\u001b[0;34m\u001b[0m\u001b[0;34m\u001b[0m\u001b[0m\n\u001b[0;32m----> 2\u001b[0;31m \u001b[0marticle_dict\u001b[0m\u001b[0;34m[\u001b[0m\u001b[0;34m'content'\u001b[0m\u001b[0;34m]\u001b[0m \u001b[0;34m=\u001b[0m \u001b[0marticle\u001b[0m\u001b[0;34m.\u001b[0m\u001b[0mtext\u001b[0m\u001b[0;34m\u001b[0m\u001b[0;34m\u001b[0m\u001b[0m\n\u001b[0m",
      "\u001b[0;31mAttributeError\u001b[0m: 'NoneType' object has no attribute 'text'"
     ]
    }
   ],
   "source": [
    "article_dict['title'] = soup.title.string\n",
    "article_dict['content'] = article.text"
   ]
  },
  {
   "cell_type": "code",
   "execution_count": 12,
   "metadata": {},
   "outputs": [
    {
     "data": {
      "text/plain": [
       "{'title': 'Codeup’s Data Science Career Accelerator is Here! - Codeup',\n",
       " 'content': None}"
      ]
     },
     "execution_count": 12,
     "metadata": {},
     "output_type": "execute_result"
    }
   ],
   "source": [
    "article_dict"
   ]
  },
  {
   "cell_type": "code",
   "execution_count": 13,
   "metadata": {},
   "outputs": [],
   "source": [
    "def get_blog_articles(urls, cached = False):\n",
    "    \n",
    "    # if we already have the data and cached == True, read it locally\n",
    "    if cached == True:\n",
    "        df = pd.read_json('blogs.json')\n",
    "    \n",
    "    # if we don't have the data or we want to resave with any new data\n",
    "    else:\n",
    "        blogs = []\n",
    "    \n",
    "        # loops through urls passed in function\n",
    "        for blog in urls:\n",
    "\n",
    "            # web scraping\n",
    "            headers = {'User-Agent': 'Codeup Data Science'}\n",
    "            response = requests.get(blog, headers=headers)\n",
    "            # takes URL and returns a soup object of the text\n",
    "            soup = bs4.BeautifulSoup(response.text)\n",
    "            article = soup.find('div', class_='jupiterx-post-content')\n",
    "\n",
    "            # creates empty dictionary to hold the article title and content\n",
    "            article_dict = {'title':[], 'content':[]}\n",
    "            # adds title to dict\n",
    "            article_dict['title'] = soup.title.string\n",
    "            # adds article to dict\n",
    "            article_dict['content'] = article\n",
    "        \n",
    "            # adds this dict of the article to the blog list\n",
    "            blogs.append(article_dict)\n",
    "        \n",
    "        # save it for next time\n",
    "        blogs = pd.DataFrame(blogs)\n",
    "        blogs.to_json('blogs.json')\n",
    "        \n",
    "    return blogs"
   ]
  },
  {
   "cell_type": "code",
   "execution_count": 14,
   "metadata": {},
   "outputs": [
    {
     "data": {
      "text/html": [
       "<div>\n",
       "<style scoped>\n",
       "    .dataframe tbody tr th:only-of-type {\n",
       "        vertical-align: middle;\n",
       "    }\n",
       "\n",
       "    .dataframe tbody tr th {\n",
       "        vertical-align: top;\n",
       "    }\n",
       "\n",
       "    .dataframe thead th {\n",
       "        text-align: right;\n",
       "    }\n",
       "</style>\n",
       "<table border=\"1\" class=\"dataframe\">\n",
       "  <thead>\n",
       "    <tr style=\"text-align: right;\">\n",
       "      <th></th>\n",
       "      <th>title</th>\n",
       "      <th>content</th>\n",
       "    </tr>\n",
       "  </thead>\n",
       "  <tbody>\n",
       "    <tr>\n",
       "      <th>0</th>\n",
       "      <td>Codeup Launches First Podcast: Hire Tech - Codeup</td>\n",
       "      <td>None</td>\n",
       "    </tr>\n",
       "    <tr>\n",
       "      <th>1</th>\n",
       "      <td>Why You Need the Best Coding Bootcamp Instruct...</td>\n",
       "      <td>None</td>\n",
       "    </tr>\n",
       "    <tr>\n",
       "      <th>2</th>\n",
       "      <td>Announcing our Candidacy for Accreditation! - ...</td>\n",
       "      <td>None</td>\n",
       "    </tr>\n",
       "    <tr>\n",
       "      <th>3</th>\n",
       "      <td>Codeup Takes Over More of the Historic Vogue B...</td>\n",
       "      <td>None</td>\n",
       "    </tr>\n",
       "    <tr>\n",
       "      <th>4</th>\n",
       "      <td>Inclusion at Codeup During Pride Month (and Al...</td>\n",
       "      <td>None</td>\n",
       "    </tr>\n",
       "  </tbody>\n",
       "</table>\n",
       "</div>"
      ],
      "text/plain": [
       "                                               title content\n",
       "0  Codeup Launches First Podcast: Hire Tech - Codeup    None\n",
       "1  Why You Need the Best Coding Bootcamp Instruct...    None\n",
       "2  Announcing our Candidacy for Accreditation! - ...    None\n",
       "3  Codeup Takes Over More of the Historic Vogue B...    None\n",
       "4  Inclusion at Codeup During Pride Month (and Al...    None"
      ]
     },
     "execution_count": 14,
     "metadata": {},
     "output_type": "execute_result"
    }
   ],
   "source": [
    "urls =  ['https://codeup.com/codeup-news/codeup-launches-first-podcast-hire-tech/', \n",
    "            'https://codeup.com/tips-for-prospective-students/why-you-need-the-best-coding-bootcamp-instructors/',\n",
    "            'https://codeup.com/codeup-news/codeup-candidate-for-accreditation/',\n",
    "            'https://codeup.com/codeup-news/codeup-takes-over-more-of-the-historic-vogue-building/',\n",
    "            'https://codeup.com/codeup-news/inclusion-at-codeup-during-pride-month-and-always/']\n",
    "\n",
    "get_blog_articles(urls)"
   ]
  },
  {
   "cell_type": "markdown",
   "metadata": {},
   "source": [
    "## News Articles\n",
    "\n",
    "We will now be scraping text data from inshorts, a website that provides a brief overview of many different topics.\n",
    "\n",
    "Write a function that scrapes the news articles for the following topics:\n",
    "\n",
    "- Business\n",
    "- Sports\n",
    "- Technology\n",
    "- Entertainment\n",
    "\n",
    "The end product of this should be a function named get_news_articles that returns a list of dictionaries, where each dictionary has this shape:\n",
    "\n",
    "{\n",
    "\n",
    "    'title': 'The article title',\n",
    "    \n",
    "    'content': 'The article content',\n",
    "    \n",
    "    'category': 'business' # for example\n",
    "    \n",
    "}\n",
    "\n",
    "Hints:\n",
    "\n",
    "- Start by inspecting the website in your browser. Figure out which elements will be useful.\n",
    "- Start by creating a function that handles a single article and produces a dictionary like the one above.\n",
    "- Next create a function that will find all the articles on a single page and call the function you created in the last step for every article on the page.\n",
    "- Now create a function that will use the previous two functions to scrape the articles from all the pages that you need, and do any additional processing that needs to be done."
   ]
  },
  {
   "cell_type": "code",
   "execution_count": null,
   "metadata": {},
   "outputs": [],
   "source": [
    "response = requests.get('http://www.inshorts.com/en/news/musk-takes-a-jibe-at-rival-car-companies-says-best-service-is-not-needing-service-1627294221573', headers={'User-Agent': 'Inshorts'})"
   ]
  },
  {
   "cell_type": "code",
   "execution_count": null,
   "metadata": {},
   "outputs": [],
   "source": [
    "response.ok"
   ]
  },
  {
   "cell_type": "code",
   "execution_count": null,
   "metadata": {},
   "outputs": [],
   "source": [
    "response.text"
   ]
  },
  {
   "cell_type": "code",
   "execution_count": null,
   "metadata": {},
   "outputs": [],
   "source": [
    "url = 'http://www.inshorts.com/en/news/musk-takes-a-jibe-at-rival-car-companies-says-best-service-is-not-needing-service-1627294221573'\n",
    "news_category = url.split('/')[-1]\n",
    "data = requests.get(url)\n",
    "soup = bs4.BeautifulSoup(data.content, 'html.parser')"
   ]
  },
  {
   "cell_type": "code",
   "execution_count": null,
   "metadata": {},
   "outputs": [],
   "source": [
    "# finding article headline\n",
    "soup.find('span', attrs={\"itemprop\": \"headline\"}).string"
   ]
  },
  {
   "cell_type": "code",
   "execution_count": null,
   "metadata": {},
   "outputs": [],
   "source": [
    "# finding article text\n",
    "soup.find('div', attrs={\"itemprop\": \"articleBody\"}).string"
   ]
  },
  {
   "cell_type": "code",
   "execution_count": null,
   "metadata": {},
   "outputs": [],
   "source": [
    "# finding author\n",
    "soup.find('span', attrs={\"author\"}).string"
   ]
  },
  {
   "cell_type": "code",
   "execution_count": null,
   "metadata": {},
   "outputs": [],
   "source": [
    "# finding date\n",
    "soup.find('span', attrs={\"date\"}).string"
   ]
  },
  {
   "cell_type": "code",
   "execution_count": null,
   "metadata": {},
   "outputs": [],
   "source": [
    "# category as assigned in url\n",
    "url.split('/')[-4]"
   ]
  },
  {
   "cell_type": "code",
   "execution_count": null,
   "metadata": {},
   "outputs": [],
   "source": [
    "def get_inshorts_dataset(urls, cached=False):\n",
    "    '''\n",
    "    Function to scrape articles from Inshorts.com; If cached == False, runs code to scrape data\n",
    "    from chosen url articles, add to dictionary, save as df in json file. If cached == True,\n",
    "    reads the saved json file to a df.\n",
    "    '''\n",
    "    # if cached, we read already saved json file to df\n",
    "    if cached == True:\n",
    "        articles = pd.read_json('inshorts_articles.json')\n",
    "\n",
    "    # cached == False, if we don't have the data or we want to resave with any new data\n",
    "    else:\n",
    "        \n",
    "        # empty list to add individual article dictionaries to\n",
    "        articles = []\n",
    "        \n",
    "        # loops through selected articles from Inshorts\n",
    "        for article in urls:\n",
    "            \n",
    "            # dictionary for article and information we are going to find\n",
    "            article_dict = {'headline':'','author':'','date':'','article':'','category':''}\n",
    "            \n",
    "            # web scraping\n",
    "            headers = {'User-Agent': 'Inshorts'}\n",
    "            data = requests.get(article, headers)\n",
    "            # takes URL and returns a soup object of the text\n",
    "            soup = bs4.BeautifulSoup(data.content, 'html.parser')\n",
    "\n",
    "            # specific article information to add to dictionary\n",
    "            article_dict['headline'] = soup.find('span', attrs={\"itemprop\": \"headline\"}).string\n",
    "            article_dict['author'] = soup.find('span', attrs={\"author\"}).string\n",
    "            article_dict['date'] = soup.find('span', attrs={\"date\"}).string\n",
    "            article_dict['article'] = soup.find('div', attrs={\"itemprop\": \"articleBody\"}).string\n",
    "#            article_dict['category'] = url.split('/')[-2]\n",
    "            article_dict['category'] = soup.find('li', attrs={\"class\": \"active-category\"}).string\n",
    "\n",
    "            # adding dictionary to list\n",
    "            articles.append(article_dict)\n",
    "\n",
    "        # converting list of dictionaries to a df\n",
    "        articles = pd.DataFrame(articles)\n",
    "        articles = articles[['headline', 'author','date','article', 'category']]\n",
    "        # Write df to a json file for faster access\n",
    "        articles.to_json('inshorts_articles.json')\n",
    "        \n",
    "    return articles"
   ]
  },
  {
   "cell_type": "code",
   "execution_count": null,
   "metadata": {},
   "outputs": [],
   "source": [
    "soup.find('li', attrs={\"class\": \"active-category\"})"
   ]
  },
  {
   "cell_type": "code",
   "execution_count": null,
   "metadata": {},
   "outputs": [],
   "source": [
    "urls = ['http://www.inshorts.com/en/news/musk-takes-a-jibe-at-rival-car-companies-says-best-service-is-not-needing-service-1627294221573',\n",
    "       'http://www.inshorts.com/en/news/how-does-the-medal-tally-look-like-after-mondays-events-at-tokyo-olympics-1627311525736',\n",
    "       'http://www.inshorts.com/en/news/tesla-cars-autopilot-system-confuses-the-moon-with-traffic-light-video-viral-1627222148462',\n",
    "       'http://www.inshorts.com/en/news/driving-licence-of-actress-yashika-whos-critical-after-car-accident-seized-by-police-1627308240879']\n",
    "\n",
    "get_inshorts_dataset(urls)"
   ]
  },
  {
   "cell_type": "code",
   "execution_count": null,
   "metadata": {},
   "outputs": [],
   "source": [
    "soup"
   ]
  },
  {
   "cell_type": "code",
   "execution_count": null,
   "metadata": {},
   "outputs": [],
   "source": []
  }
 ],
 "metadata": {
  "kernelspec": {
   "display_name": "Python 3",
   "language": "python",
   "name": "python3"
  },
  "language_info": {
   "codemirror_mode": {
    "name": "ipython",
    "version": 3
   },
   "file_extension": ".py",
   "mimetype": "text/x-python",
   "name": "python",
   "nbconvert_exporter": "python",
   "pygments_lexer": "ipython3",
   "version": "3.8.8"
  },
  "toc": {
   "base_numbering": 1,
   "nav_menu": {},
   "number_sections": true,
   "sideBar": true,
   "skip_h1_title": false,
   "title_cell": "Table of Contents",
   "title_sidebar": "Contents",
   "toc_cell": false,
   "toc_position": {},
   "toc_section_display": true,
   "toc_window_display": false
  }
 },
 "nbformat": 4,
 "nbformat_minor": 4
}
